{
  "nbformat": 4,
  "nbformat_minor": 0,
  "metadata": {
    "colab": {
      "provenance": [],
      "authorship_tag": "ABX9TyO8S3CMmVAc4rouN1de41Sm",
      "include_colab_link": true
    },
    "kernelspec": {
      "name": "python3",
      "display_name": "Python 3"
    },
    "language_info": {
      "name": "python"
    }
  },
  "cells": [
    {
      "cell_type": "markdown",
      "metadata": {
        "id": "view-in-github",
        "colab_type": "text"
      },
      "source": [
        "<a href=\"https://colab.research.google.com/github/mira-bot/ML/blob/main/K-fold.ipynb\" target=\"_parent\"><img src=\"https://colab.research.google.com/assets/colab-badge.svg\" alt=\"Open In Colab\"/></a>"
      ]
    },
    {
      "cell_type": "code",
      "execution_count": 1,
      "metadata": {
        "colab": {
          "base_uri": "https://localhost:8080/"
        },
        "id": "j1Ut1_qt_VPE",
        "outputId": "ca84173a-39f4-4c9d-d59d-b2c3691f9d37"
      },
      "outputs": [
        {
          "output_type": "stream",
          "name": "stdout",
          "text": [
            "Scores for each of the 5 folds: [0.98202486 0.98683812 0.98159705 0.99014546 0.97429065]\n",
            "Mean R^2: 0.982979228695682\n",
            "Standard Deviation of R^2: 0.005376960006162239\n"
          ]
        }
      ],
      "source": [
        "from sklearn.datasets import make_regression\n",
        "from sklearn.model_selection import KFold, cross_val_score\n",
        "from sklearn.linear_model import LinearRegression\n",
        "import numpy as np\n",
        "\n",
        "# We generate a synthetic regression dataset\n",
        "#    - n_samples: number of data points\n",
        "#    - n_features: number of features\n",
        "#    - noise: add some randomness so it's not perfectly linear\n",
        "#    - random_state: for reproducibility\n",
        "X, y = make_regression(n_samples=100, n_features=3, noise=10, random_state=42)\n",
        "\n",
        "#  We create a model (Linear Regression)\n",
        "model = LinearRegression()\n",
        "\n",
        "# next, we create k-fold splitter (5 folds)\n",
        "k = 5\n",
        "kf = KFold(n_splits=k, shuffle=True, random_state=42)\n",
        "\n",
        "# We perform cross-validation using R^2 as our metric\n",
        "scores = cross_val_score(model, X, y, cv=kf, scoring='r2')\n",
        "\n",
        "# See the results\n",
        "print(\"Scores for each of the 5 folds:\", scores)\n",
        "print(\"Mean R^2:\", np.mean(scores))\n",
        "print(\"Standard Deviation of R^2:\", np.std(scores))\n"
      ]
    }
  ]
}